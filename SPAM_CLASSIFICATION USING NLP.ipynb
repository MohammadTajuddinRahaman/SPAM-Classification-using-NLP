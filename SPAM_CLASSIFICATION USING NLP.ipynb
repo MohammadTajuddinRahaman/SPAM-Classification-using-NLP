{
 "cells": [
  {
   "cell_type": "code",
   "execution_count": 1,
   "id": "273a3d35-1151-43b6-af4b-0a344bfe8c59",
   "metadata": {},
   "outputs": [],
   "source": [
    "\n",
    "import pandas as pd\n",
    "from sklearn.model_selection import train_test_split\n",
    "from sklearn.feature_extraction.text import CountVectorizer\n",
    "from sklearn.linear_model import LogisticRegression\n",
    "from sklearn.metrics import classification_report, confusion_matrix, accuracy_score"
   ]
  },
  {
   "cell_type": "code",
   "execution_count": 4,
   "id": "6dd1dbcc-a954-474c-9141-b98b7d67245d",
   "metadata": {},
   "outputs": [],
   "source": [
    "data=pd.read_csv(r\"C:\\Users\\tajud\\OneDrive\\Desktop\\NRIT\\spam.csv\",encoding='ISO-8859-1')"
   ]
  },
  {
   "cell_type": "code",
   "execution_count": 6,
   "id": "02470d13-3347-4bce-ab81-31b639be3a96",
   "metadata": {},
   "outputs": [
    {
     "name": "stdout",
     "output_type": "stream",
     "text": [
      "     v1  Label                                                 v2\n",
      "0   ham      0  Go until jurong point, crazy.. Available only ...\n",
      "1   ham      0                      Ok lar... Joking wif u oni...\n",
      "2  spam      1  Free entry in 2 a wkly comp to win FA Cup fina...\n",
      "3   ham      0  U dun say so early hor... U c already then say...\n",
      "4   ham      0  Nah I don't think he goes to usf, he lives aro...\n"
     ]
    }
   ],
   "source": [
    "print(data.head())"
   ]
  },
  {
   "cell_type": "code",
   "execution_count": 8,
   "id": "bc539cd0-ffab-4183-a9c0-6b8dd9777b70",
   "metadata": {},
   "outputs": [],
   "source": [
    "\n",
    "x = data['v2']        # Message text\n",
    "y = data['Label']        # Label column (ham/spam)"
   ]
  },
  {
   "cell_type": "code",
   "execution_count": 10,
   "id": "5ed44461-22e1-44f5-9242-dcf6f0b72291",
   "metadata": {},
   "outputs": [
    {
     "data": {
      "text/plain": [
       "<5572x8672 sparse matrix of type '<class 'numpy.int64'>'\n",
       "\twith 73916 stored elements in Compressed Sparse Row format>"
      ]
     },
     "execution_count": 10,
     "metadata": {},
     "output_type": "execute_result"
    }
   ],
   "source": [
    "\n",
    "# Step 3: Convert text to BoW vectors\n",
    "vectorizer = CountVectorizer()\n",
    "x_bow = vectorizer.fit_transform(x)\n",
    "x_bow"
   ]
  },
  {
   "cell_type": "code",
   "execution_count": 12,
   "id": "17138908-5833-440f-9325-86c68217e1fb",
   "metadata": {},
   "outputs": [
    {
     "data": {
      "text/plain": [
       "array(['bet', 'beta', 'beth', 'betta', 'better', 'bettersn', 'bettr',\n",
       "       'between', 'beverage', 'bevies', 'beware', 'beyond', 'bf', 'bffs',\n",
       "       'bfore', 'bhaji', 'bhaskar', 'bhayandar', 'bian', 'biatch', 'bid',\n",
       "       'bids', 'big', 'bigger', 'biggest', 'bike', 'bill', 'billed',\n",
       "       'billing', 'billion', 'bills', 'billy', 'bilo', 'bimbo', 'bin',\n",
       "       'biola', 'bird', 'birds', 'birla', 'biro', 'birth', 'birthdate',\n",
       "       'birthday', 'bishan', 'bit', 'bitch', 'bitching', 'bite', 'bites',\n",
       "       'bits', 'biz', 'bk', 'black', 'blackberry', 'blacko', 'blah',\n",
       "       'blake', 'blame', 'blank', 'blanked', 'blanket', 'blankets',\n",
       "       'blastin', 'bleak', 'bleh', 'bless', 'blessed', 'blessing',\n",
       "       'blessings', 'blimey', 'blind', 'block', 'blocked', 'blog',\n",
       "       'blogging', 'blogspot', 'bloke', 'blokes', 'blonde', 'bloo',\n",
       "       'blood', 'bloody', 'bloomberg', 'blow', 'blowing', 'blown', 'blu',\n",
       "       'blue', 'bluetooth', 'bluetoothhdset', 'bluff', 'blur', 'bluray',\n",
       "       'bmw', 'board', 'boat', 'boatin', 'bob', 'body', 'boggy', 'bognor',\n",
       "       'bold', 'bold2', 'bollox', 'boltblue', 'bomb', 'bone', 'bong',\n",
       "       'bonus', 'boo', 'boobs', 'book', 'booked', 'bookedthe', 'booking',\n",
       "       'bookmark', 'books', 'bookshelf', 'boooo', 'boost', 'booty',\n",
       "       'bootydelious', 'borderline', 'bored', 'borin', 'boring', 'born',\n",
       "       'borrow', 'boss', 'boston', 'bot', 'both', 'bother', 'bothering',\n",
       "       'bottle', 'bottom', 'bought', 'boughtåóbraindanceåóa',\n",
       "       'boundaries', 'bout', 'bowa', 'bowl', 'bowls', 'box', 'box1146',\n",
       "       'box139', 'box177', 'box245c2150pm', 'box326', 'box334',\n",
       "       'box334sk38ch', 'box385', 'box39822', 'box403', 'box420',\n",
       "       'box42wr29c', 'box434sk38wp150ppm18', 'box61', 'box95qu',\n",
       "       'box97n7qp', 'boy', 'boye', 'boyf', 'boyfriend', 'boys', 'boytoy',\n",
       "       'bpo', 'brah', 'brain', 'brainless', 'brains', 'brainy', 'brand',\n",
       "       'brandy', 'bras', 'brats', 'braved', 'bray', 'brb', 'brdget',\n",
       "       'bread', 'breadstick', 'break', 'breaker', 'breakfast', 'breakin',\n",
       "       'breaking', 'breaks', 'breath', 'breathe', 'breathe1', 'breather',\n",
       "       'breathing', 'breeze', 'breezy', 'bribe', 'bridal', 'bridge',\n",
       "       'bridgwater', 'brief', 'bright', 'brighten', 'brilliant',\n",
       "       'brilliantly', 'brin', 'bring', 'bringing', 'brings', 'brisk',\n",
       "       'brison', 'bristol', 'british', 'britney', 'bro', 'broad',\n",
       "       'broadband', 'broke', 'broken', 'brolly', 'bros', 'broth',\n",
       "       'brothas', 'brother', 'brothers', 'brought', 'brown', 'brownie',\n",
       "       'brownies', 'browse', 'browser', 'browsin', 'bruce', 'brum',\n",
       "       'bruv', 'bslvyl', 'bsn', 'bsnl', 'bstfrnd', 'bt', 'btw', 'btwn',\n",
       "       'bubbletext', 'bucks', 'bud', 'buddy', 'buddys', 'budget', 'buen',\n",
       "       'buff', 'buffet', 'buffy', 'bugis', 'build', 'building', 'built',\n",
       "       'bulbs', 'bull', 'bullshit', 'bunch', 'bundle', 'bunkers', 'buns',\n",
       "       'burden', 'burger', 'burgundy', 'burial', 'burn', 'burning',\n",
       "       'burns', 'burnt', 'burrito', 'bus', 'bus8', 'buses', 'busetop',\n",
       "       'business', 'busty', 'busy', 'but', 'butt', 'buttheres', 'butting',\n",
       "       'buttons', 'buy', 'buyer', 'buyers', 'buying', 'buzy', 'buzz',\n",
       "       'buzzzz', 'bw', 'bx', 'bx420', 'bx526', 'by', 'byatch', 'bye',\n",
       "       'byåóleafcutter', 'båõday', 'c52', 'cab', 'cabin', 'cable', 'cafe',\n",
       "       'cage', 'cake', 'cakes', 'cal', 'calculated', 'calculation',\n",
       "       'cali', 'calicut', 'california', 'call', 'call09050000327',\n",
       "       'call2optout', 'callback', 'callcost', 'callcost150ppmmobilesvary',\n",
       "       'calld', 'called', 'caller', 'callers', 'callertune',\n",
       "       'callfreefone', 'callin', 'calling', 'callon', 'calls', 'calls1',\n",
       "       'callså', 'calm', 'cam', 'camcorder', 'came', 'camera', 'camp',\n",
       "       'campus', 'camry', 'can', 'canada', 'canal', 'canary', 'cancel',\n",
       "       'canceled', 'cancelled', 'cancer', 'canlove', 'cann', 'canname',\n",
       "       'cannot', 'cant', 'cantdo', 'canteen', 'canåõt', 'capacity',\n",
       "       'capital', 'cappuccino', 'caps', 'captain', 'captaining', 'car',\n",
       "       'card', 'cardiff', 'cardin', 'cards', 'care', 'careabout', 'cared',\n",
       "       'career', 'careers', 'careful', 'carefully', 'careless', 'cares',\n",
       "       'caring', 'carlie', 'carlin', 'carlos', 'carly', 'carolina',\n",
       "       'caroline', 'carpark', 'carry', 'carryin', 'cars', 'cartons',\n",
       "       'cartoon', 'case', 'cash', 'cashbin', 'cashed', 'cashto', 'casing',\n",
       "       'cast', 'casting', 'castor', 'casualty', 'cat', 'catch'],\n",
       "      dtype=object)"
      ]
     },
     "execution_count": 12,
     "metadata": {},
     "output_type": "execute_result"
    }
   ],
   "source": [
    "\n",
    "# Optional: Convert to dense array or DataFrame if you want to inspect it\n",
    "x_bow_array = x_bow.toarray()\n",
    "\n",
    "# Optional: Get feature (word) names\n",
    "words = vectorizer.get_feature_names_out()\n",
    "words[1500:1900]"
   ]
  },
  {
   "cell_type": "code",
   "execution_count": 14,
   "id": "3622c06e-5099-45d6-9b18-3bf9fa7d1014",
   "metadata": {},
   "outputs": [],
   "source": [
    "# Step 4: Train-test split\n",
    "x_train, x_test, y_train, y_test = train_test_split(x_bow, y, test_size=0.2, random_state=42)"
   ]
  },
  {
   "cell_type": "code",
   "execution_count": 16,
   "id": "e5ba7c18-7093-455e-ada9-708c611ce824",
   "metadata": {},
   "outputs": [
    {
     "name": "stdout",
     "output_type": "stream",
     "text": [
      "Accuracy: 0.9775784753363229\n",
      "\n",
      " Classification Report:\n",
      "               precision    recall  f1-score   support\n",
      "\n",
      "           0       0.98      1.00      0.99       965\n",
      "           1       0.99      0.84      0.91       150\n",
      "\n",
      "    accuracy                           0.98      1115\n",
      "   macro avg       0.98      0.92      0.95      1115\n",
      "weighted avg       0.98      0.98      0.98      1115\n",
      "\n",
      "\n",
      " Confusion Matrix:\n",
      " [[964   1]\n",
      " [ 24 126]]\n"
     ]
    }
   ],
   "source": [
    "# Step 5: Train Logistic Regression model\n",
    "model = LogisticRegression()\n",
    "model.fit(x_train, y_train)\n",
    "\n",
    "# Step 6: Predict and evaluate\n",
    "y_pred = model.predict(x_test)\n",
    "\n",
    "print(\"Accuracy:\", accuracy_score(y_test, y_pred))\n",
    "print(\"\\n Classification Report:\\n\", classification_report(y_test, y_pred))\n",
    "print(\"\\n Confusion Matrix:\\n\", confusion_matrix(y_test, y_pred))"
   ]
  },
  {
   "cell_type": "code",
   "execution_count": null,
   "id": "5037311f-99a8-4bbc-bc93-8806c743fa57",
   "metadata": {},
   "outputs": [],
   "source": []
  }
 ],
 "metadata": {
  "kernelspec": {
   "display_name": "Python [conda env:base] *",
   "language": "python",
   "name": "conda-base-py"
  },
  "language_info": {
   "codemirror_mode": {
    "name": "ipython",
    "version": 3
   },
   "file_extension": ".py",
   "mimetype": "text/x-python",
   "name": "python",
   "nbconvert_exporter": "python",
   "pygments_lexer": "ipython3",
   "version": "3.12.7"
  }
 },
 "nbformat": 4,
 "nbformat_minor": 5
}
